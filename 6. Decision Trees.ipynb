{
 "cells": [
  {
   "cell_type": "markdown",
   "metadata": {},
   "source": [
    "# 6. Decision Trees"
   ]
  },
  {
   "cell_type": "markdown",
   "metadata": {},
   "source": [
    "- **do not require feature scaling or centering**\n",
    "- fairly intuitive and their decisions are easy to interpret\n",
    "- finding the optimal tree is known to be an NP-Complete problem: requires O(exp(m))  \n",
    "  making the problem intractable even for fairly small training sets. **ot optimal, but a resonably good solution**\n",
    "- *Scikit-Learn uses the CART algorithm, which produces only binary trees: nonleaf nodes always have two children (i.e., questions only have yes/no answers). However, other algorithms such as ID3 can produce Decision Trees with nodes that have more than two children*\n"
   ]
  },
  {
   "cell_type": "markdown",
   "metadata": {},
   "source": [
    "### 6-0. CART algorithm\n",
    "- Classification And Regression Tree\n",
    "- the algorithm first splits the training set in two subsets using a single feature $k$ and a threshold $t_k$.  \n",
    "  searches for the pair $(k, t_k)$ that produces the purest subsets(weighted by their size) \n",
    "- CART cost function for classification  \n",
    "$J(k, t_k) = \\frac{m_{left}}{m}G_{left} + \\frac{m_{right}}{m}G_{right}$   \n",
    "$G_{left/right}$ = impurity of left/right subset  \n",
    "$m_{left/right}$ = the number of instances in the left/right subset"
   ]
  },
  {
   "cell_type": "markdown",
   "metadata": {},
   "source": [
    "### 6-1. Classification\n",
    "- Training"
   ]
  },
  {
   "cell_type": "code",
   "execution_count": 13,
   "metadata": {},
   "outputs": [
    {
     "data": {
      "text/plain": [
       "array([1])"
      ]
     },
     "execution_count": 13,
     "metadata": {},
     "output_type": "execute_result"
    }
   ],
   "source": [
    "from sklearn.datasets import load_iris\n",
    "from sklearn.tree import DecisionTreeClassifier\n",
    "\n",
    "# train\n",
    "iris = load_iris()\n",
    "X = iris.data[:, 2:] #petal length and width\n",
    "y = iris.target\n",
    "\n",
    "tree_clf = DecisionTreeClassifier(max_depth = 2) # increasing max_depth: detailed classification\n",
    "tree_clf.fit(X, y)\n",
    "\n",
    "#prediction\n",
    "tree_clf.predict_proba([[5, 1.5]])\n",
    "tree_clf.predict([[5, 1.5]])"
   ]
  },
  {
   "cell_type": "markdown",
   "metadata": {},
   "source": [
    " - visualize\n",
    "    - sample = counts how many training instances it applied to\n",
    "    - value = how many training instances of each class this node applies to\n",
    "    - gini = measure impurity\n",
    "        - pure(gini=0) = every instances belongs to the same class\n",
    "        - e.g. $G_i$ = 1 – $(0/54)^2$ – $(49/54)^2$ – $(5/54)^2$ ≈ 0.168.\n",
    "<img src = \"\">"
   ]
  },
  {
   "cell_type": "code",
   "execution_count": 10,
   "metadata": {},
   "outputs": [],
   "source": [
    "from sklearn.tree import export_graphviz\n",
    "import os\n",
    "\n",
    "def image_path(image_name):\n",
    "    dir = os.path.join(\".\",\"decision_trees\",\"images\")\n",
    "    if not os.path.exists(dir):\n",
    "        os.makedirs(\"dir\")\n",
    "    return os.path.join(dir, image_name)\n",
    "\n",
    "export_graphviz(tree_clf, \n",
    "                out_file=image_path(\"iris_tree.dot\"),\n",
    "                feature_names=iris.feature_names[2:],\n",
    "                class_names=iris.target_names,\n",
    "                rounded=True,\n",
    "                filled=True)\n",
    "\n",
    "# $ dot -Tpng iris_tree.dot -o iris_tree.png"
   ]
  },
  {
   "cell_type": "markdown",
   "metadata": {},
   "source": [
    "### 6-2. Regression\n",
    "- CART tries to split the training set in a way that minimizes the MSE\n",
    "- CART cost function for regression  \n",
    "$J(k, t_k) = \\frac{m_{left}}{m}MSE_{left} + \\frac{m_{left}}{m}MSE_{left}$  \n",
    "$MSE_{node} = \\Sigma{}$  \n",
    "$\\hat{y}_{node}$"
   ]
  },
  {
   "cell_type": "code",
   "execution_count": 17,
   "metadata": {},
   "outputs": [
    {
     "data": {
      "text/plain": [
       "DecisionTreeRegressor(ccp_alpha=0.0, criterion='mse', max_depth=2,\n",
       "                      max_features=None, max_leaf_nodes=None,\n",
       "                      min_impurity_decrease=0.0, min_impurity_split=None,\n",
       "                      min_samples_leaf=1, min_samples_split=2,\n",
       "                      min_weight_fraction_leaf=0.0, presort='deprecated',\n",
       "                      random_state=None, splitter='best')"
      ]
     },
     "execution_count": 17,
     "metadata": {},
     "output_type": "execute_result"
    }
   ],
   "source": [
    "from sklearn.tree import DecisionTreeRegressor\n",
    "\n",
    "tree_reg = DecisionTreeRegressor(max_depth=2)\n",
    "tree_reg.fit(X, y)"
   ]
  }
 ],
 "metadata": {
  "kernelspec": {
   "display_name": "Python 3",
   "language": "python",
   "name": "python3"
  },
  "language_info": {
   "codemirror_mode": {
    "name": "ipython",
    "version": 3
   },
   "file_extension": ".py",
   "mimetype": "text/x-python",
   "name": "python",
   "nbconvert_exporter": "python",
   "pygments_lexer": "ipython3",
   "version": "3.7.6"
  }
 },
 "nbformat": 4,
 "nbformat_minor": 4
}
