{
 "cells": [
  {
   "cell_type": "markdown",
   "metadata": {},
   "source": [
    "# 4. Training Models"
   ]
  },
  {
   "cell_type": "markdown",
   "metadata": {},
   "source": [
    "- training model = setting its parameters so that the model best fits the training set"
   ]
  },
  {
   "cell_type": "markdown",
   "metadata": {},
   "source": [
    "## 4-1. Linear Regression"
   ]
  },
  {
   "cell_type": "markdown",
   "metadata": {},
   "source": [
    "1. Linear Regression model prediction  \n",
    "    - θ_0: bias term\n",
    "    - x_0: always equal to zero  \n",
    "    <img src = \"https://www.oreilly.com/library/view/hands-on-machine-learning/9781491962282/assets/eq_11.png\" width=\"25%\" height=\"25%\" align=\"left\"><br>  \n",
    "    <img src = \"https://www.oreilly.com/library/view/hands-on-machine-learning/9781491962282/assets/eq_12.png\" width=\"15%\" height=\"15%\" align =\"left\"><br>  \n",
    "<br>\n",
    "2. MSE cost function for a Linear Regression model<br>\n",
    "    <img src = \"https://www.oreilly.com/library/view/hands-on-machine-learning/9781491962282/assets/eq_18.png\" width=\"25%\" height=\"25%\" align =\"left\"><br>\n",
    "<br><br>    "
   ]
  },
  {
   "cell_type": "markdown",
   "metadata": {},
   "source": [
    "3. The Normal Equation  \n",
    "> usage: **good for less features, many instances**  \n",
    "\n",
    "    - normal equation: closed-form equation; a mathematical equation that gives the result directly  \n",
    "    <img src = \"https://www.oreilly.com/library/view/hands-on-machine-learning/9781491962282/assets/eq_19.png\" width=\"15%\" height=\"15%\" align = \"left\"><br><br>\n",
    "    - Positive:   \n",
    "        1) equation is linear with regards to the **# of instances** in the training set; O(m)  \n",
    "        -> handles large training sets efficiently  \n",
    "        2) Once trained, predictions are very fast. computational complexity is linear with regards to both # of instances and # of features.(i.e. instance # twice -> time twice)       \n",
    "    - Negative:   \n",
    "        1) gest very slow when the number of **features** grow large; O(n^3)  \n",
    "        inversing cost is high. X.T * X -> (n, n) shape. n: # of features  "
   ]
  },
  {
   "cell_type": "code",
   "execution_count": 4,
   "metadata": {},
   "outputs": [
    {
     "name": "stdout",
     "output_type": "stream",
     "text": [
      "theta_best: [[3.80376336]\n",
      " [2.96988319]]\n",
      "y_predict: [[3.80376336]\n",
      " [9.74352973]]\n"
     ]
    },
    {
     "data": {
      "image/png": "[encoded data removed]",
      "text/plain": [
       "<Figure size 432x288 with 1 Axes>"
      ]
     },
     "metadata": {
      "needs_background": "light"
     },
     "output_type": "display_data"
    }
   ],
   "source": [
    "# 3-1. Normal Equation w/o scikit-linear\n",
    "import numpy as np\n",
    "import matplotlib.pyplot as plt\n",
    "X = 2 * np.random.rand(100, 1) # \n",
    "y = 4 + 3 * X + np.random.randn(100, 1) #\n",
    "\n",
    "# training: use normal equation\n",
    "X_b = np.c_[np.ones((100, 1)), X] # add x0 = 1 to each instance; bias\n",
    "theta_best = np.linalg.inv(X_b.T.dot(X_b)).dot(X_b.T).dot(y) \n",
    "theta_best #  similar with answer theta [4, 3]\n",
    "print(f'theta_best: {theta_best}')\n",
    "\n",
    "# sample prediction\n",
    "X_new = np.array([[0], [2]])\n",
    "X_new_b = np.c_[np.ones((2,1)), X_new]\n",
    "y_predict = X_new_b.dot(theta_best)\n",
    "print(f'y_predict: {y_predict}')\n",
    "\n",
    "# plotting\n",
    "plt.plot(X_new, y_predict, \"r-\")\n",
    "plt.plot(X, y, \"b.\")\n",
    "plt.axis([0, 2, 0, 15])\n",
    "plt.show()"
   ]
  },
  {
   "cell_type": "code",
   "execution_count": 3,
   "metadata": {},
   "outputs": [
    {
     "name": "stdout",
     "output_type": "stream",
     "text": [
      "(array([3.9102045]), array([[3.16203789]]))\n",
      "[[ 3.9102045 ]\n",
      " [10.23428029]]\n"
     ]
    }
   ],
   "source": [
    "# 3-2. Normal Equation w scikit-linear\n",
    "from sklearn.linear_model import LinearRegression\n",
    "\n",
    "#train\n",
    "lin_reg = LinearRegression()\n",
    "lin_reg.fit(X, y)\n",
    "print(f'{lin_reg.intercept_, lin_reg.coef_}')\n",
    "   \n",
    "#predict\n",
    "X_new = np.array([[0], [2]]) # do not need to add bias x_0\n",
    "print(lin_reg.predict(X_new))"
   ]
  },
  {
   "cell_type": "markdown",
   "metadata": {},
   "source": [
    "## 4-2. Gradient Descent"
   ]
  },
  {
   "cell_type": "markdown",
   "metadata": {},
   "source": [
    "- **when using Gradient Descent, ensure that all features have a similar scale(e.g. *StandardScaler class*). Or it'll take long to diverge**\n",
    "- learning rate\n",
    "    - too small: have to go through many iterations to converge(takes long time)\n",
    "    - too high: jump across the valley and end up on the other side, make algorithm diverge"
   ]
  },
  {
   "cell_type": "markdown",
   "metadata": {},
   "source": [
    "1. Batch Gradient Descent\n",
    "    - Batch Gradient Descent: uses the whole batch of training data at every step; calculates over the full training set X at each Gradient Descent step\n",
    "    - Partial derivatives of the cost function  \n",
    "    <img src = \"https://www.oreilly.com/library/view/hands-on-machine-learning/9781491962282/assets/eq_29.png\" width= '30%' height= '30%' align='left'><br><br><br><br><br><br>\n",
    "    - Gradient vector of the cost function(compute partial derivatives in one go)<br>\n",
    "    <img src = \"https://www.oreilly.com/library/view/hands-on-machine-learning/9781491962282/assets/eq_28.png\" width= '30%' height= '30%' align='left'><br><br><br><br>\n",
    "    - Gradient Descent step\n",
    "        - eta: learning rate<br>\n",
    "    <img src = \"https://www.oreilly.com/library/view/hands-on-machine-learning/9781491962282/assets/eq_30.png\" width= '30%' height= '30%' align='left'><br><br><br>\n",
    "    - Hyeperparameters\n",
    "        1. Leraning rate\n",
    "            - **to find a good learning rate, ue grid search.** However, we may want to limit the number of iterations so that grid search can eliminate models that take too long to converge.\n",
    "        2. Iterations\n",
    "            - **set a very large number of iterations but interrupt the algorithm when the gradient vector becomes tiny**; when its norm becoes smaller than a tiny number ϵ(tolerance)\n",
    "    - *Convergence rate (suppose the cost function is convex and its slope does not change abruptly)*\n",
    "        - Batch Gradient Descent with a fixed learning rate has a convergence rate of O(1/ϵ)\n",
    "        - if ϵ divided by 10, the algorithm has to run about 10 times more iterations\n",
    "    \n",
    "   \n",
    "   "
   ]
  },
  {
   "cell_type": "code",
   "execution_count": 9,
   "metadata": {},
   "outputs": [
    {
     "data": {
      "text/plain": [
       "array([[3.80376336],\n",
       "       [2.96988319]])"
      ]
     },
     "execution_count": 9,
     "metadata": {},
     "output_type": "execute_result"
    }
   ],
   "source": [
    "'''\n",
    "y = 4 + 3 * X + np.random.randn(100, 1)\n",
    "'''\n",
    "\n",
    "eta = 0.1 #learning rate\n",
    "n_iterations = 1000\n",
    "m = 100\n",
    "\n",
    "theta = np.random.randn(2,1) #random initialization\n",
    "\n",
    "for _ in range(n_iterations):\n",
    "    gradients = 2/m * X_b.T.dot(X_b.dot(theta) - y)\n",
    "    theta = theta - eta * gradients\n",
    "\n",
    "theta"
   ]
  },
  {
   "cell_type": "markdown",
   "metadata": {},
   "source": [
    "2. Stochastic Gradient Descent\n",
    "    - Stochastic Gradient Descent: picks a random instance in the training set at every step and computes the gradients based only on that single instance.\n",
    "    - If you want to be sure that algorithm goes through every instance at each epoch, shuffle the training set then go through it instance by instance then shuffle again. But it generally converges more slowly\n",
    "        - Pos: **1) Makes the alg much faster**; has very little data to manipulate at each iteration. **2) Has a better chance of finding global minimum than BGD** when the cost function is very irregular\n",
    "        - Neg: **final parameter values are good but not normal.** Because it's much less regular than Batch Gradient Descent; cost function bounces up and down, decreasing only on average. Ends up very close to the minumum but bounce around, never settling down.\n",
    "            - solution: simulated annealing(gradually reduce the larning rate)"
   ]
  },
  {
   "cell_type": "code",
   "execution_count": 27,
   "metadata": {},
   "outputs": [
    {
     "data": {
      "image/png": "[encoded data removed]",
      "text/plain": [
       "<Figure size 432x288 with 1 Axes>"
      ]
     },
     "metadata": {
      "needs_background": "light"
     },
     "output_type": "display_data"
    }
   ],
   "source": [
    "# Stochastic Gradient Descent w/ learning schedule w/o scikit-learn\n",
    "import matplotlib.pyplot as plt\n",
    "\n",
    "n_epochs = 50\n",
    "t0, t1 = 5, 50\n",
    "m = 100\n",
    "\n",
    "def learning_schedule(t):\n",
    "    return t0/(t + t1)\n",
    "\n",
    "theta = np.random.randn(2,1)\n",
    "\n",
    "# select m instances every epoch\n",
    "for epoch in range(n_epochs):\n",
    "    for i in range(m):\n",
    "        random_idx =  np.random.randint(m)\n",
    "        xi = X_b[random_idx:random_idx+1]\n",
    "        yi = y[random_idx:random_idx+1]\n",
    "        gradients = 2 * xi.T.dot(xi.dot(theta) - yi)\n",
    "        eta = learning_schedule(epoch * m + i) # epoch * m + i = accumulated instance numbers\n",
    "        theta = theta - eta * gradients\n",
    "        \n",
    "        plt.plot(theta[0], theta[1], \"b.\")\n",
    "    \n",
    "    if epoch % 5 == 0:\n",
    "         print(f'eta: {eta:.5f}, theta: {theta[0]}, {theta[1]}')\n",
    "\n",
    "plt.show()"
   ]
  },
  {
   "cell_type": "code",
   "execution_count": 32,
   "metadata": {},
   "outputs": [
    {
     "data": {
      "text/plain": [
       "(array([3.77503707]), array([2.99175798]))"
      ]
     },
     "execution_count": 32,
     "metadata": {},
     "output_type": "execute_result"
    }
   ],
   "source": [
    "# Stochastic Gradient Descent w/ scikit-learn\n",
    "from sklearn.linear_model import SGDRegressor\n",
    "sgd_reg = SGDRegressor(max_iter=50, penalty=None, eta0=0.1)\n",
    "sgd_reg.fit(X, y.ravel()) #ravel: flattening\n",
    "\n",
    "sgd_reg.intercept_, sgd_reg.coef_\n",
    "#intercept: The intercept term\n",
    "#coef: Weights assigned to the features"
   ]
  },
  {
   "cell_type": "markdown",
   "metadata": {},
   "source": [
    "3. Mini-batch Gradient Descent\n",
    "    - Mini-batch Gradient Descent: Instead of full training set(Batch GD) or just one instance(Stochastic GD), based on small random sets of instances called mini-batches\n",
    "    - Pos: be able to get a performance boost from hardware optimization of matrix operations. alg's progress in parameter space is less erratic than SGD especially with fairly large mini-batches\n",
    "\n"
   ]
  },
  {
   "cell_type": "markdown",
   "metadata": {},
   "source": [
    "4. Conclusion  \n",
    "\n",
    "|Algorithm| Large m(instance) | Out-of-core support | Large n(feature) | Hyperparams | Scaling required | Scikit-Learn|\n",
    "|:---:|:---:|:---:|:---:|:---:|:---:|:---:|\n",
    "| `Normal Equation` | Fast | No | Slow | 0 | No | n/a |\n",
    "| `SVD` | Fast | No | Slow | 0 | No | LinearRegression |\n",
    "| `Batch GD` | Slow | No | Fast | 2 | Yes | SGDRegressor|\n",
    "| `Stochastic GD` | Fast | Yes | Fast | ≥2 | Yes | SGDRegressor|\n",
    "| `Mini-batch GD` | Fast | Yes | Fast | ≥2 | Yes | SGDRegressor|"
   ]
  },
  {
   "cell_type": "markdown",
   "metadata": {},
   "source": [
    "## 4-3. Polynomial Regression"
   ]
  },
  {
   "cell_type": "markdown",
   "metadata": {},
   "source": [
    "- be able to use linear model to fit nonlinear data **by adding powers of each feature a new features**\n",
    "- PolynomialFeatures(degree=d) transforms an array containing n features into an array containing \n",
    "${\\frac{(n+d)!}{d!n!}}$\n",
    "    -> be careful w/ feature #"
   ]
  },
  {
   "cell_type": "code",
   "execution_count": 37,
   "metadata": {},
   "outputs": [
    {
     "data": {
      "text/plain": [
       "(array([2.09603788]), array([[0.99031658, 0.49535408]]))"
      ]
     },
     "execution_count": 37,
     "metadata": {},
     "output_type": "execute_result"
    }
   ],
   "source": [
    "from sklearn.preprocessing import PolynomialFeatures\n",
    "\n",
    "m = 100\n",
    "X = 6 * np.random.rand(m, 1) - 3\n",
    "y = 0.5 * X**2 + X + 2 + np.random.randn(m, 1)\n",
    "\n",
    "poly_features = PolynomialFeatures(degree=2, include_bias=False)\n",
    "X_poly = poly_features.fit_transform(X)\n",
    "X[0]\n",
    "X_poly[0]\n",
    "\n",
    "lin_reg = LinearRegression()\n",
    "lin_reg.fit(X_poly, y)\n",
    "lin_reg.intercept_, lin_reg.coef_"
   ]
  },
  {
   "cell_type": "markdown",
   "metadata": {},
   "source": [
    "## 4-4. Regualarized Linear Models"
   ]
  },
  {
   "cell_type": "code",
   "execution_count": null,
   "metadata": {},
   "outputs": [],
   "source": []
  },
  {
   "cell_type": "markdown",
   "metadata": {},
   "source": [
    "1. Ridge Regression\n",
    "2. Lasso Regression\n",
    "3. Elastic Net"
   ]
  },
  {
   "cell_type": "markdown",
   "metadata": {},
   "source": [
    "## 4-5. Logistic Regression"
   ]
  },
  {
   "cell_type": "markdown",
   "metadata": {},
   "source": [
    "## 4-6. Softmax Regression"
   ]
  },
  {
   "cell_type": "markdown",
   "metadata": {},
   "source": [
    "## Bias and Variance"
   ]
  },
  {
   "cell_type": "markdown",
   "metadata": {},
   "source": [
    "- **a model’s generalization error can be expressed as the sum of three very different errors**    \n",
    "\n",
    "\n",
    "1. Bias: due to wrong assumptions such as assuming that the data is linear when it is actually quadratic. a high-bias model is most likely to underfit the training data.\n",
    "2. Variance: due to the model’s excessive sensitivity to small variations in the training data. A model with many degrees of freedom(such as a high-degree polynomial model) is likely to have high variance, and thus to overfit the training data.\n",
    "3. Irreducible error: due to the noisiness of the data itself. The only way to reduce this part of the error is to clean up the data (e.g., fix the data sources, such as broken sensors, or detect and remove outliers).\n",
    "\n",
    "\n",
    "- Bias-variance tradeoff\n",
    "    - Increasing a model’s complexity: typically increase its variance and reduce its bias. \n",
    "    - Reducing a model’s complexity: increases its bias and reduces its variance. "
   ]
  },
  {
   "cell_type": "markdown",
   "metadata": {},
   "source": [
    "## Early Stopping"
   ]
  },
  {
   "cell_type": "markdown",
   "metadata": {},
   "source": [
    "- Measuring the model's generalization performance: **1) cross-validation, 2) learning curves**"
   ]
  },
  {
   "cell_type": "markdown",
   "metadata": {},
   "source": [
    "from sklearn.metrics import mean_squared_error\n",
    "from sklearn.model_selection import train_test_split\n",
    "\n",
    "def plot_learning_curves(model, X, y):\n",
    "    X_train, X_val, y_train, y_val = train_test_split(X, y, test_size=0.2)\n",
    "    train_errors, val_errors = [], []\n",
    "    \n",
    "    for m in range(1, len(X_train)):\n",
    "        model.fit(X_train[:m], y_train[:m])\n",
    "        y_train_predict = model.predict(X_train[:m])\n",
    "        y_val_predict = model.predict(X_val)\n",
    "        train_errors.append(mean_squared_error(y_train_predict, y_train[:m]))\n",
    "        val_errors.append(mean_squared_error(y_val_predict, y_val))\n",
    "    \n",
    "    plt.plot(np.sqrt(train_errors), \"r-+\", linewidth=2, label=\"train\")\n",
    "    plt.plot(np.sqrt(val_errors), \"b-\", linewidth=3, label=\"val\")\n",
    "    plt.xlabel(\"Training set size\")\n",
    "    plt.ylabel(\"RMSE\")\n",
    "    plt.show()\n",
    "\n",
    "lin_reg = LinearRegression()\n",
    "plot_learning_curves(lin_reg, X, y)"
   ]
  },
  {
   "cell_type": "markdown",
   "metadata": {},
   "source": [
    "## Exercise"
   ]
  },
  {
   "cell_type": "markdown",
   "metadata": {},
   "source": [
    "#### 1. What Linear Regression training algorithm can you use if you have a training set with millions of features?\n",
    "batch gradient, stochastic gradient, mini-batch gradient\n",
    "#### 2. Suppose the features in your training set have very different scales. What algorithms might suffer from this, and how? What can you do about it?\n",
    "batch gradient, stochastic gradient, mini-batch gradient  \n",
    "would take long time to converge  \n",
    "scale features uing standardizing  \n",
    "#### 3. Can Gradient Descent get stuck in a local minimum when training a Logistic Regression model?\n",
    "#### 4. Do all Gradient Descent algorithms lead to the same model provided you let them run long enough?\n",
    "yes\n",
    "#### 5. Suppose you use Batch Gradient Descent and you plot the validation error at every epoch. If you notice that the validation error consistently goes up, what is likely going on? How can you fix this?\n",
    "overfitting  \n",
    "increase the number of train set or reduce the complexity of the model\n",
    "#### 6. Is it a good idea to stop Mini-batch Gradient Descent immediately when the validation error goes up?\n",
    "no, \n",
    "it is natural for validation error rate to go up at the beginning\n",
    "#### 7. Which Gradient Descent algorithm (among those we discussed) will reach the vicinity of the optimal solution the fastest? Which will actually converge? How can you make the others converge as well?\n",
    "mini-batch gradient descent\n",
    "#### 8. Suppose you are using Polynomial Regression. You plot the learning curves and you notice that there is a large gap between the training error and the validation error. What is happening? What are three ways to solve this?\n",
    "\n",
    "#### 9. Suppose you are using Ridge Regression and you notice that the training error and the validation error are almost equal and fairly high. Would you say that the model suffers from high bias or high variance? Should you increase the regularization hyperparameter α or reduce it?\n",
    "#### 10. Why would you want to use: Ridge Regression instead of plain Linear Regression (i.e., without any regularization)?Lasso instead of Ridge Regression? Elastic Net instead of Lasso?\n",
    "#### 11. Suppose you want to classify pictures as outdoor/indoor and daytime/nighttime. Should you implement two Logistic Regression classifiers or one Softmax Regression classifier?\n",
    "#### 12. Implement Batch Gradient Descent with early stopping or Softmax Regression (without using ScikitLearn)."
   ]
  },
  {
   "cell_type": "code",
   "execution_count": null,
   "metadata": {},
   "outputs": [],
   "source": []
  }
 ],
 "metadata": {
  "kernelspec": {
   "display_name": "Python 3",
   "language": "python",
   "name": "python3"
  },
  "language_info": {
   "codemirror_mode": {
    "name": "ipython",
    "version": 3
   },
   "file_extension": ".py",
   "mimetype": "text/x-python",
   "name": "python",
   "nbconvert_exporter": "python",
   "pygments_lexer": "ipython3",
   "version": "3.7.6"
  }
 },
 "nbformat": 4,
 "nbformat_minor": 4
}
